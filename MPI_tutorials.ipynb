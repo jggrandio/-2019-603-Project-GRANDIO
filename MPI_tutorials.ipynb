{
 "cells": [
  {
   "cell_type": "code",
   "execution_count": 12,
   "metadata": {},
   "outputs": [],
   "source": [
    "# -*- coding: utf-8 -*-\n",
    "import gym\n",
    "import numpy as np\n",
    "from collections import deque\n",
    "import DQNagent\n",
    "import tensorflow as tf\n",
    "\n",
    "EPISODES = 5000\n",
    "\n",
    "GANMA = 0.99    # discount rate\n",
    "EPSILON = 1.0  # exploration rate\n",
    "#Works with min 0.01\n",
    "EPSILON_MIN = 0.00\n",
    "EPSILON_DECAY = 0.995\n",
    "# works with learning rate 0.001\n",
    "LEARNING_RATE = 0.001\n",
    "\n",
    "#TRAIN = 1 trains to a file. TRAIN = 0 plays with the coefficients of the file.\n",
    "TRAIN = 1;\n",
    "FILE_NAME = \"ann-weights.h5\"\n",
    "\n",
    "if __name__ == \"__main__\":\n",
    "    env = gym.make('LunarLander-v2')\n",
    "    state_size = 8\n",
    "    action_size = env.action_space.n\n",
    "    agent = DQNagent.agent(state_size,action_size,gamma=0.999 , epsilon = 1.0, epsilon_min=0.001,epsilon_decay=0.996, learning_rate=0.001, batch_size=128)\n",
    "    w_model=agent.model.get_weights()\n",
    "    "
   ]
  },
  {
   "cell_type": "code",
   "execution_count": 20,
   "metadata": {},
   "outputs": [],
   "source": [
    "from collections import deque\n",
    "\n",
    "scores = deque(maxlen=100)\n",
    "for i in range(5):\n",
    "    scores.append(i)"
   ]
  },
  {
   "cell_type": "code",
   "execution_count": 2,
   "metadata": {},
   "outputs": [],
   "source": [
    "import gym\n",
    "env = gym.make('LunarLander-v2')\n",
    "state_size = env.observation_space.shape[0]"
   ]
  },
  {
   "cell_type": "code",
   "execution_count": 3,
   "metadata": {},
   "outputs": [
    {
     "data": {
      "text/plain": [
       "8"
      ]
     },
     "execution_count": 3,
     "metadata": {},
     "output_type": "execute_result"
    }
   ],
   "source": [
    "state_size"
   ]
  },
  {
   "cell_type": "code",
   "execution_count": 18,
   "metadata": {},
   "outputs": [],
   "source": [
    "from collections import deque\n",
    "o = deque()\n",
    "for i in range (5):\n",
    "    o.append(i)\n",
    "b = deque()\n",
    "b.append(o)\n",
    "b.append(o)\n",
    "b.append(o)"
   ]
  },
  {
   "cell_type": "code",
   "execution_count": 22,
   "metadata": {},
   "outputs": [
    {
     "ename": "TypeError",
     "evalue": "sequence index must be integer, not 'slice'",
     "output_type": "error",
     "traceback": [
      "\u001b[0;31m---------------------------------------------------------------------------\u001b[0m",
      "\u001b[0;31mTypeError\u001b[0m                                 Traceback (most recent call last)",
      "\u001b[0;32m<ipython-input-22-5278c7cffe45>\u001b[0m in \u001b[0;36m<module>\u001b[0;34m\u001b[0m\n\u001b[0;32m----> 1\u001b[0;31m \u001b[0mb\u001b[0m\u001b[0;34m[\u001b[0m\u001b[0;36m0\u001b[0m\u001b[0;34m:\u001b[0m\u001b[0;34m]\u001b[0m\u001b[0;34m\u001b[0m\u001b[0;34m\u001b[0m\u001b[0m\n\u001b[0m",
      "\u001b[0;31mTypeError\u001b[0m: sequence index must be integer, not 'slice'"
     ]
    }
   ],
   "source": [
    "b[0:]"
   ]
  },
  {
   "cell_type": "code",
   "execution_count": null,
   "metadata": {},
   "outputs": [],
   "source": []
  }
 ],
 "metadata": {
  "kernelspec": {
   "display_name": "Python 3",
   "language": "python",
   "name": "python3"
  },
  "language_info": {
   "codemirror_mode": {
    "name": "ipython",
    "version": 3
   },
   "file_extension": ".py",
   "mimetype": "text/x-python",
   "name": "python",
   "nbconvert_exporter": "python",
   "pygments_lexer": "ipython3",
   "version": "3.6.8"
  }
 },
 "nbformat": 4,
 "nbformat_minor": 4
}
